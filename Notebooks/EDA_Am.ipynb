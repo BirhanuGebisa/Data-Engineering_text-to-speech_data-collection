{
 "cells": [
  {
   "cell_type": "code",
   "execution_count": 1,
   "metadata": {},
   "outputs": [],
   "source": [
    "# importing lib\n",
    "import pandas as pd\n",
    "import matplotlib.pyplot as plt\n",
    "from sklearn.utils import shuffle\n",
    "%matplotlib inline\n",
    "import seaborn as sb"
   ]
  },
  {
   "cell_type": "code",
   "execution_count": 2,
   "metadata": {},
   "outputs": [],
   "source": [
    "import warnings\n",
    "warnings.simplefilter(\"ignore\")"
   ]
  },
  {
   "cell_type": "code",
   "execution_count": 3,
   "metadata": {},
   "outputs": [],
   "source": [
    "# path\n",
    "import os\n",
    "import sys\n",
    "sys.path.append(os.path.abspath(os.path.join('../scripts')))"
   ]
  },
  {
   "cell_type": "code",
   "execution_count": 4,
   "metadata": {},
   "outputs": [],
   "source": [
    "# importing custom library \n",
    "from data_info import DataInfo\n",
    "from VisualisationPlots import VisualiseDf"
   ]
  },
  {
   "cell_type": "markdown",
   "metadata": {},
   "source": [
    "# Exploratory data analysis"
   ]
  },
  {
   "cell_type": "code",
   "execution_count": 5,
   "metadata": {},
   "outputs": [
    {
     "data": {
      "text/html": [
       "<div>\n",
       "<style scoped>\n",
       "    .dataframe tbody tr th:only-of-type {\n",
       "        vertical-align: middle;\n",
       "    }\n",
       "\n",
       "    .dataframe tbody tr th {\n",
       "        vertical-align: top;\n",
       "    }\n",
       "\n",
       "    .dataframe thead th {\n",
       "        text-align: right;\n",
       "    }\n",
       "</style>\n",
       "<table border=\"1\" class=\"dataframe\">\n",
       "  <thead>\n",
       "    <tr style=\"text-align: right;\">\n",
       "      <th></th>\n",
       "      <th>headline</th>\n",
       "      <th>category</th>\n",
       "      <th>date</th>\n",
       "      <th>views</th>\n",
       "      <th>article</th>\n",
       "      <th>link</th>\n",
       "    </tr>\n",
       "  </thead>\n",
       "  <tbody>\n",
       "    <tr>\n",
       "      <th>41504</th>\n",
       "      <td>የኦባማና የኃይለማርያም ጋዜጣዊ መግለጫ</td>\n",
       "      <td>ዓለም አቀፍ ዜና</td>\n",
       "      <td>July 28, 2015</td>\n",
       "      <td>Unknown</td>\n",
       "      <td>በኢትዮጵያ ቀጣይ ዕድገት ሊኖር የሚችለው በመረጃዎች ፍሰትና በግልፅ የሃ...</td>\n",
       "      <td>https://amharic.voanews.com//a/president-barac...</td>\n",
       "    </tr>\n",
       "    <tr>\n",
       "      <th>48489</th>\n",
       "      <td>በበጀት ዓመቱ 326 ፕሮጄክቶች በአርብቶ አደር አካባቢዎች ተገነቡ</td>\n",
       "      <td>ፖለቲካ</td>\n",
       "      <td>July 30, 2013</td>\n",
       "      <td>Unknown</td>\n",
       "      <td>አዲስ አበባ ፣ ሐምሌ 23 2005 (ዋኢማ) – በተጠናቀቀው የ2005 በጀ...</td>\n",
       "      <td>https://waltainfo.com/am/27949/</td>\n",
       "    </tr>\n",
       "    <tr>\n",
       "      <th>8540</th>\n",
       "      <td>በኢትዮጵያና በግብጽ መካከል ጦርነት መቀስቀስ ተቀባይነት የለውም ብለዋል ...</td>\n",
       "      <td>ፖለቲካ</td>\n",
       "      <td>2021/1/22 20:38 GMT</td>\n",
       "      <td>Unknown</td>\n",
       "      <td>የኢትዮጵያ ውጭ ጉዳይ ሚኒስትር ገዱ አንዳርጋቸው የአሜሪካ ፕሬዘዳንት ዶና...</td>\n",
       "      <td>https://am.al-ain.com/article/ethiopian-fm-sum...</td>\n",
       "    </tr>\n",
       "    <tr>\n",
       "      <th>43391</th>\n",
       "      <td>በኢትዮጵያ በተለያዩ ግጭቶች ለተፈናቀሉ ዜጎች የተመድ የ15 ሚሊየን ዶላር...</td>\n",
       "      <td>ሀገር አቀፍ ዜና</td>\n",
       "      <td>July 13, 2018</td>\n",
       "      <td>Unknown</td>\n",
       "      <td>ባለፉት ጊዚያት በኢትየጵያ የተለያዩ አካባቢዎች በተከሰቱ ግጭቶች ለተፈናቀ...</td>\n",
       "      <td>https://waltainfo.com/am/32021/</td>\n",
       "    </tr>\n",
       "    <tr>\n",
       "      <th>18650</th>\n",
       "      <td>ከ7 ነጥብ 7 ሚሊየን ብር በላይ የሚገመት የኮንትሮባንድ እቃና ዶላር ተያዘ</td>\n",
       "      <td>ሀገር አቀፍ ዜና</td>\n",
       "      <td>Dec 17, 2019</td>\n",
       "      <td>54</td>\n",
       "      <td>አዲስ አበባ ፣ ታህሳስ 1 ፣ 2012 (ኤፍ ቢ ሲ) ከ7 ነጥብ 7 ሚሊየን...</td>\n",
       "      <td>https://www.fanabc.com/%e1%8a%a87-%e1%8a%90%e1...</td>\n",
       "    </tr>\n",
       "    <tr>\n",
       "      <th>39925</th>\n",
       "      <td>አጥፍቶ ጠፊዎች ሰሜናዊ ሊብያ ውስጥ በሚገኝ የነዳጅ ማውጫ ተቋም ላይ ጥቃ...</td>\n",
       "      <td>ዓለም አቀፍ ዜና</td>\n",
       "      <td>January 05, 2016</td>\n",
       "      <td>Unknown</td>\n",
       "      <td>እሥላማዊ መንግሥት ነኝ የሚለው ቡድን አጥፍቶ ጠፊዎች ሰሜናዊ ሊብያ ውስጥ...</td>\n",
       "      <td>https://amharic.voanews.com//a/islamic-state-l...</td>\n",
       "    </tr>\n",
       "    <tr>\n",
       "      <th>29715</th>\n",
       "      <td>ቶኪዮ 2020| ለሉሲዎቹ ዝግጅት 23 ተጫዋቾች ተጠርተዋል</td>\n",
       "      <td>ስፖርት</td>\n",
       "      <td>August 6, 2019</td>\n",
       "      <td>Unknown</td>\n",
       "      <td>በ2020 የቶኪዮ ኦሊምፒክ የሴቶች እግርኳስ የአፍሪካ ዞን ማጣርያ ካሜሩን...</td>\n",
       "      <td>https://soccerethiopia.net/football/49712</td>\n",
       "    </tr>\n",
       "    <tr>\n",
       "      <th>11490</th>\n",
       "      <td>ከአማራ ብሄራዊ ሀገር አቀፍ ዜና መንግስት በወቅታዊ ጉዳይ ላይ የተሰጠ መግለጫ</td>\n",
       "      <td>ሀገር አቀፍ ዜና</td>\n",
       "      <td>October 3, 2019</td>\n",
       "      <td>173</td>\n",
       "      <td>“ የአማራ ብሎም የሀገራችን ህዝቦች የለውጥና የአንድነት ጉዞ በአሮጌው ዘ...</td>\n",
       "      <td>https://www.amharaweb.com/%e1%8a%a8%e1%8a%a0%e...</td>\n",
       "    </tr>\n",
       "    <tr>\n",
       "      <th>31400</th>\n",
       "      <td>የአሸናፊዎች አሸናፊ ዋንጫ ጨዋታ ከሊጉ መጀመር አንድ ሳምንት በፊት ይደረጋል</td>\n",
       "      <td>ስፖርት</td>\n",
       "      <td>September 18, 2018</td>\n",
       "      <td>Unknown</td>\n",
       "      <td>ማክሰኞ መስከረም 8 ቀን 2011የኢትዮጵያ አሸናፊዎች አሸናፊ ዋንጫ ከሊጉ...</td>\n",
       "      <td>https://soccerethiopia.net/football/39761</td>\n",
       "    </tr>\n",
       "    <tr>\n",
       "      <th>43011</th>\n",
       "      <td>ጠቅላይ ሚኒስትር ዶ/ር አብይ ነገ የሚከበረውን የኢሬቻ በዓልን ምክንያት ...</td>\n",
       "      <td>ሀገር አቀፍ ዜና</td>\n",
       "      <td>September 29, 2018</td>\n",
       "      <td>Unknown</td>\n",
       "      <td>የኢፌዴሪ ጠቅላይ ሚኒስትር ዶክተር አብይ አህመድ ነገ የሚከበረውን የኢሬቻ...</td>\n",
       "      <td>https://waltainfo.com/am/32096/</td>\n",
       "    </tr>\n",
       "  </tbody>\n",
       "</table>\n",
       "</div>"
      ],
      "text/plain": [
       "                                                headline    category  \\\n",
       "41504                           የኦባማና የኃይለማርያም ጋዜጣዊ መግለጫ  ዓለም አቀፍ ዜና   \n",
       "48489          በበጀት ዓመቱ 326 ፕሮጄክቶች በአርብቶ አደር አካባቢዎች ተገነቡ        ፖለቲካ   \n",
       "8540   በኢትዮጵያና በግብጽ መካከል ጦርነት መቀስቀስ ተቀባይነት የለውም ብለዋል ...        ፖለቲካ   \n",
       "43391  በኢትዮጵያ በተለያዩ ግጭቶች ለተፈናቀሉ ዜጎች የተመድ የ15 ሚሊየን ዶላር...  ሀገር አቀፍ ዜና   \n",
       "18650    ከ7 ነጥብ 7 ሚሊየን ብር በላይ የሚገመት የኮንትሮባንድ እቃና ዶላር ተያዘ  ሀገር አቀፍ ዜና   \n",
       "39925  አጥፍቶ ጠፊዎች ሰሜናዊ ሊብያ ውስጥ በሚገኝ የነዳጅ ማውጫ ተቋም ላይ ጥቃ...  ዓለም አቀፍ ዜና   \n",
       "29715               ቶኪዮ 2020| ለሉሲዎቹ ዝግጅት 23 ተጫዋቾች ተጠርተዋል        ስፖርት   \n",
       "11490  ከአማራ ብሄራዊ ሀገር አቀፍ ዜና መንግስት በወቅታዊ ጉዳይ ላይ የተሰጠ መግለጫ  ሀገር አቀፍ ዜና   \n",
       "31400   የአሸናፊዎች አሸናፊ ዋንጫ ጨዋታ ከሊጉ መጀመር አንድ ሳምንት በፊት ይደረጋል        ስፖርት   \n",
       "43011  ጠቅላይ ሚኒስትር ዶ/ር አብይ ነገ የሚከበረውን የኢሬቻ በዓልን ምክንያት ...  ሀገር አቀፍ ዜና   \n",
       "\n",
       "                      date    views  \\\n",
       "41504        July 28, 2015  Unknown   \n",
       "48489        July 30, 2013  Unknown   \n",
       "8540   2021/1/22 20:38 GMT  Unknown   \n",
       "43391        July 13, 2018  Unknown   \n",
       "18650         Dec 17, 2019       54   \n",
       "39925     January 05, 2016  Unknown   \n",
       "29715       August 6, 2019  Unknown   \n",
       "11490      October 3, 2019      173   \n",
       "31400   September 18, 2018  Unknown   \n",
       "43011   September 29, 2018  Unknown   \n",
       "\n",
       "                                                 article  \\\n",
       "41504   በኢትዮጵያ ቀጣይ ዕድገት ሊኖር የሚችለው በመረጃዎች ፍሰትና በግልፅ የሃ...   \n",
       "48489  አዲስ አበባ ፣ ሐምሌ 23 2005 (ዋኢማ) – በተጠናቀቀው የ2005 በጀ...   \n",
       "8540   የኢትዮጵያ ውጭ ጉዳይ ሚኒስትር ገዱ አንዳርጋቸው የአሜሪካ ፕሬዘዳንት ዶና...   \n",
       "43391  ባለፉት ጊዚያት በኢትየጵያ የተለያዩ አካባቢዎች በተከሰቱ ግጭቶች ለተፈናቀ...   \n",
       "18650  አዲስ አበባ ፣ ታህሳስ 1 ፣ 2012 (ኤፍ ቢ ሲ) ከ7 ነጥብ 7 ሚሊየን...   \n",
       "39925  እሥላማዊ መንግሥት ነኝ የሚለው ቡድን አጥፍቶ ጠፊዎች ሰሜናዊ ሊብያ ውስጥ...   \n",
       "29715  በ2020 የቶኪዮ ኦሊምፒክ የሴቶች እግርኳስ የአፍሪካ ዞን ማጣርያ ካሜሩን...   \n",
       "11490  “ የአማራ ብሎም የሀገራችን ህዝቦች የለውጥና የአንድነት ጉዞ በአሮጌው ዘ...   \n",
       "31400  ማክሰኞ መስከረም 8 ቀን 2011የኢትዮጵያ አሸናፊዎች አሸናፊ ዋንጫ ከሊጉ...   \n",
       "43011  የኢፌዴሪ ጠቅላይ ሚኒስትር ዶክተር አብይ አህመድ ነገ የሚከበረውን የኢሬቻ...   \n",
       "\n",
       "                                                    link  \n",
       "41504  https://amharic.voanews.com//a/president-barac...  \n",
       "48489                    https://waltainfo.com/am/27949/  \n",
       "8540   https://am.al-ain.com/article/ethiopian-fm-sum...  \n",
       "43391                    https://waltainfo.com/am/32021/  \n",
       "18650  https://www.fanabc.com/%e1%8a%a87-%e1%8a%90%e1...  \n",
       "39925  https://amharic.voanews.com//a/islamic-state-l...  \n",
       "29715          https://soccerethiopia.net/football/49712  \n",
       "11490  https://www.amharaweb.com/%e1%8a%a8%e1%8a%a0%e...  \n",
       "31400          https://soccerethiopia.net/football/39761  \n",
       "43011                    https://waltainfo.com/am/32096/  "
      ]
     },
     "execution_count": 5,
     "metadata": {},
     "output_type": "execute_result"
    }
   ],
   "source": [
    "# reading file\n",
    "df_am = pd.read_csv('../data/Amharic News Dataset.csv')\n",
    "\n",
    "# view shuffled info\n",
    "df_am = shuffle(df_am)\n",
    "df_am.head(10)"
   ]
  },
  {
   "cell_type": "code",
   "execution_count": 6,
   "metadata": {},
   "outputs": [],
   "source": [
    "# information\n",
    "df_info = DataInfo(df_am)"
   ]
  },
  {
   "cell_type": "code",
   "execution_count": 7,
   "metadata": {},
   "outputs": [
    {
     "name": "stdout",
     "output_type": "stream",
     "text": [
      "Dataframe contains 51483 rows and 6 columns\n"
     ]
    }
   ],
   "source": [
    "# shape of the data source\n",
    "df_info.shape_df()"
   ]
  },
  {
   "cell_type": "code",
   "execution_count": 8,
   "metadata": {},
   "outputs": [
    {
     "name": "stdout",
     "output_type": "stream",
     "text": [
      "headline    13\n",
      "category     1\n",
      "date         0\n",
      "views        0\n",
      "article      0\n",
      "link         0\n",
      "dtype: int64\n"
     ]
    }
   ],
   "source": [
    "# null\n",
    "df_info.get_count_null()"
   ]
  },
  {
   "cell_type": "markdown",
   "metadata": {},
   "source": [
    "Only 14 records are nulls, will be dealt with in a proper manner"
   ]
  },
  {
   "cell_type": "code",
   "execution_count": 9,
   "metadata": {},
   "outputs": [
    {
     "name": "stdout",
     "output_type": "stream",
     "text": [
      "Dataframe contains null values of 0.0% out of the given dataset\n"
     ]
    }
   ],
   "source": [
    "# really few null values\n",
    "df_info.null_percentage()"
   ]
  },
  {
   "cell_type": "markdown",
   "metadata": {},
   "source": [
    "Almost 0 percent nulls"
   ]
  },
  {
   "cell_type": "code",
   "execution_count": 10,
   "metadata": {},
   "outputs": [
    {
     "name": "stdout",
     "output_type": "stream",
     "text": [
      "<class 'pandas.core.frame.DataFrame'>\n",
      "Int64Index: 51483 entries, 41504 to 9193\n",
      "Data columns (total 6 columns):\n",
      " #   Column    Non-Null Count  Dtype \n",
      "---  ------    --------------  ----- \n",
      " 0   headline  51470 non-null  object\n",
      " 1   category  51482 non-null  object\n",
      " 2   date      51483 non-null  object\n",
      " 3   views     51483 non-null  object\n",
      " 4   article   51483 non-null  object\n",
      " 5   link      51483 non-null  object\n",
      "dtypes: object(6)\n",
      "memory usage: 2.7+ MB\n",
      "None\n"
     ]
    }
   ],
   "source": [
    "#General info\n",
    "df_info.detail_info()"
   ]
  },
  {
   "cell_type": "markdown",
   "metadata": {},
   "source": [
    "## Data cleaning\n",
    "- Null values need to be handled \n",
    "- view variable datatype need to be int"
   ]
  },
  {
   "cell_type": "code",
   "execution_count": 11,
   "metadata": {},
   "outputs": [],
   "source": [
    "# dropping the null values\n",
    "df_am.dropna(inplace = True)"
   ]
  },
  {
   "cell_type": "markdown",
   "metadata": {},
   "source": [
    "Dropped the null values, since they were very small in number"
   ]
  },
  {
   "cell_type": "code",
   "execution_count": 12,
   "metadata": {},
   "outputs": [
    {
     "data": {
      "text/plain": [
       "0"
      ]
     },
     "execution_count": 12,
     "metadata": {},
     "output_type": "execute_result"
    }
   ],
   "source": [
    "df_am.isna().any().sum()"
   ]
  },
  {
   "cell_type": "markdown",
   "metadata": {},
   "source": [
    "Finally no null values in the data frame"
   ]
  },
  {
   "cell_type": "code",
   "execution_count": 13,
   "metadata": {},
   "outputs": [
    {
     "data": {
      "text/plain": [
       "https://amharic.voanews.com//a/ethiopian-airlines-flight-et-302-boeing-737-max-8-crash-at-bishofu/4822249.html                                                                                                                                                                                                                                                                                                                                                        3\n",
       "https://amharic.voanews.com//a/families-react-to-boeing-promises-millions-of-dollars-aid-voa-with-alula-kebede-7-24-2019/5013568.html                                                                                                                                                                                                                                                                                                                                 3\n",
       "https://amharic.voanews.com//a/white-house-on-river-nile-and-ethiopias-dam-10-03-19/5110165.html                                                                                                                                                                                                                                                                                                                                                                      3\n",
       "https://amharic.voanews.com//a/5461661.html                                                                                                                                                                                                                                                                                                                                                                                                                           3\n",
       "https://amharic.voanews.com//a/covid-main-/5590698.html                                                                                                                                                                                                                                                                                                                                                                                                               3\n",
       "                                                                                                                                                                                                                                                                                                                                                                                                                                                                     ..\n",
       "https://www.ethiopianreporter.com/content/%E1%8B%B6%E1%88%AD-%E1%88%98%E1%88%A8%E1%88%AB-%E1%8B%8B%E1%88%B5%E1%89%B5%E1%8A%93-%E1%8A%A5%E1%8A%95%E1%8B%B2%E1%8D%88%E1%89%80%E1%8B%B5%E1%88%8B%E1%89%B8%E1%8B%8D-%E1%8B%AB%E1%89%80%E1%88%A8%E1%89%A1%E1%89%B5-%E1%8C%A5%E1%8B%AB%E1%89%84-%E1%88%88%E1%89%A5%E1%8B%AD%E1%8A%95-%E1%89%B0%E1%89%80%E1%8C%A0%E1%88%A8                                                                                                   1\n",
       "https://amharic.voanews.com//a/Ethiopia-conflict-11-26-2020/5677520.html                                                                                                                                                                                                                                                                                                                                                                                              1\n",
       "https://www.fanabc.com/%e1%8b%a8%e1%8b%93%e1%88%88%e1%88%9d-%e1%8c%a4%e1%8a%93-%e1%8b%b5%e1%88%ad%e1%8c%85%e1%89%b5-%e1%8a%a0%e1%8d%8d%e1%88%aa%e1%8a%ab-%e1%8a%a8%e1%8d%96%e1%88%8a%e1%8b%ae-%e1%8a%90%e1%8d%83-%e1%88%98/                                                                                                                                                                                                                                           1\n",
       "https://www.ethiopianreporter.com/content/%E1%8B%A8%E1%8A%A0%E1%8C%88%E1%88%AD-%E1%8B%8D%E1%88%B5%E1%8C%A5-%E1%8D%8B%E1%89%A5%E1%88%AA%E1%8A%AB%E1%8B%8E%E1%89%BD-15-%E1%89%A0%E1%88%98%E1%89%B6-%E1%8B%A8%E1%8B%8B%E1%8C%8B-%E1%8A%A0%E1%88%B5%E1%89%B0%E1%8B%AB%E1%8B%A8%E1%89%B5-%E1%88%B3%E1%8B%AD%E1%8B%B0%E1%88%A8%E1%8C%8D%E1%88%8B%E1%89%B8%E1%8B%8D-%E1%8B%A8%E1%89%A5%E1%88%A8%E1%89%B5-%E1%8C%A8%E1%88%A8%E1%89%B3-%E1%8A%A0%E1%88%B8%E1%8A%90%E1%8D%89    1\n",
       "https://am.al-ain.com/article/tripartite-negotiation-over-the-gerd-2                                                                                                                                                                                                                                                                                                                                                                                                  1\n",
       "Name: link, Length: 50765, dtype: int64"
      ]
     },
     "execution_count": 13,
     "metadata": {},
     "output_type": "execute_result"
    }
   ],
   "source": [
    "df_am['link'].value_counts()"
   ]
  },
  {
   "cell_type": "markdown",
   "metadata": {},
   "source": [
    "Most news were taken from VOA(Voice of America) news"
   ]
  },
  {
   "cell_type": "markdown",
   "metadata": {},
   "source": [
    "## let's see some distributions  "
   ]
  },
  {
   "cell_type": "code",
   "execution_count": 14,
   "metadata": {},
   "outputs": [
    {
     "data": {
      "text/plain": [
       "Index(['headline', 'category', 'date', 'views', 'article', 'link'], dtype='object')"
      ]
     },
     "execution_count": 14,
     "metadata": {},
     "output_type": "execute_result"
    }
   ],
   "source": [
    "df_am.columns"
   ]
  },
  {
   "cell_type": "markdown",
   "metadata": {},
   "source": [
    "There are 6 features in the data frame"
   ]
  },
  {
   "cell_type": "code",
   "execution_count": 15,
   "metadata": {},
   "outputs": [
    {
     "data": {
      "text/plain": [
       "ሀገር አቀፍ ዜና    20665\n",
       "ስፖርት          10411\n",
       "ፖለቲካ           9325\n",
       "ዓለም አቀፍ ዜና     6543\n",
       "ቢዝነስ           3894\n",
       "መዝናኛ            632\n",
       "Name: category, dtype: int64"
      ]
     },
     "execution_count": 15,
     "metadata": {},
     "output_type": "execute_result"
    }
   ],
   "source": [
    "df_am['category'].value_counts()"
   ]
  },
  {
   "cell_type": "markdown",
   "metadata": {},
   "source": [
    "There are 6 different news categories"
   ]
  },
  {
   "cell_type": "markdown",
   "metadata": {},
   "source": [
    "Adding word count (length) of the sentences as a feature"
   ]
  },
  {
   "cell_type": "code",
   "execution_count": 16,
   "metadata": {},
   "outputs": [],
   "source": [
    "df_am['word_len'] = df_am['article'].str.split().str.len()"
   ]
  },
  {
   "cell_type": "code",
   "execution_count": 17,
   "metadata": {},
   "outputs": [
    {
     "data": {
      "text/html": [
       "<div>\n",
       "<style scoped>\n",
       "    .dataframe tbody tr th:only-of-type {\n",
       "        vertical-align: middle;\n",
       "    }\n",
       "\n",
       "    .dataframe tbody tr th {\n",
       "        vertical-align: top;\n",
       "    }\n",
       "\n",
       "    .dataframe thead th {\n",
       "        text-align: right;\n",
       "    }\n",
       "</style>\n",
       "<table border=\"1\" class=\"dataframe\">\n",
       "  <thead>\n",
       "    <tr style=\"text-align: right;\">\n",
       "      <th></th>\n",
       "      <th>headline</th>\n",
       "      <th>category</th>\n",
       "      <th>date</th>\n",
       "      <th>views</th>\n",
       "      <th>article</th>\n",
       "      <th>link</th>\n",
       "      <th>word_len</th>\n",
       "    </tr>\n",
       "  </thead>\n",
       "  <tbody>\n",
       "    <tr>\n",
       "      <th>41504</th>\n",
       "      <td>የኦባማና የኃይለማርያም ጋዜጣዊ መግለጫ</td>\n",
       "      <td>ዓለም አቀፍ ዜና</td>\n",
       "      <td>July 28, 2015</td>\n",
       "      <td>Unknown</td>\n",
       "      <td>በኢትዮጵያ ቀጣይ ዕድገት ሊኖር የሚችለው በመረጃዎች ፍሰትና በግልፅ የሃ...</td>\n",
       "      <td>https://amharic.voanews.com//a/president-barac...</td>\n",
       "      <td>274</td>\n",
       "    </tr>\n",
       "    <tr>\n",
       "      <th>48489</th>\n",
       "      <td>በበጀት ዓመቱ 326 ፕሮጄክቶች በአርብቶ አደር አካባቢዎች ተገነቡ</td>\n",
       "      <td>ፖለቲካ</td>\n",
       "      <td>July 30, 2013</td>\n",
       "      <td>Unknown</td>\n",
       "      <td>አዲስ አበባ ፣ ሐምሌ 23 2005 (ዋኢማ) – በተጠናቀቀው የ2005 በጀ...</td>\n",
       "      <td>https://waltainfo.com/am/27949/</td>\n",
       "      <td>140</td>\n",
       "    </tr>\n",
       "    <tr>\n",
       "      <th>8540</th>\n",
       "      <td>በኢትዮጵያና በግብጽ መካከል ጦርነት መቀስቀስ ተቀባይነት የለውም ብለዋል ...</td>\n",
       "      <td>ፖለቲካ</td>\n",
       "      <td>2021/1/22 20:38 GMT</td>\n",
       "      <td>Unknown</td>\n",
       "      <td>የኢትዮጵያ ውጭ ጉዳይ ሚኒስትር ገዱ አንዳርጋቸው የአሜሪካ ፕሬዘዳንት ዶና...</td>\n",
       "      <td>https://am.al-ain.com/article/ethiopian-fm-sum...</td>\n",
       "      <td>140</td>\n",
       "    </tr>\n",
       "    <tr>\n",
       "      <th>43391</th>\n",
       "      <td>በኢትዮጵያ በተለያዩ ግጭቶች ለተፈናቀሉ ዜጎች የተመድ የ15 ሚሊየን ዶላር...</td>\n",
       "      <td>ሀገር አቀፍ ዜና</td>\n",
       "      <td>July 13, 2018</td>\n",
       "      <td>Unknown</td>\n",
       "      <td>ባለፉት ጊዚያት በኢትየጵያ የተለያዩ አካባቢዎች በተከሰቱ ግጭቶች ለተፈናቀ...</td>\n",
       "      <td>https://waltainfo.com/am/32021/</td>\n",
       "      <td>83</td>\n",
       "    </tr>\n",
       "    <tr>\n",
       "      <th>18650</th>\n",
       "      <td>ከ7 ነጥብ 7 ሚሊየን ብር በላይ የሚገመት የኮንትሮባንድ እቃና ዶላር ተያዘ</td>\n",
       "      <td>ሀገር አቀፍ ዜና</td>\n",
       "      <td>Dec 17, 2019</td>\n",
       "      <td>54</td>\n",
       "      <td>አዲስ አበባ ፣ ታህሳስ 1 ፣ 2012 (ኤፍ ቢ ሲ) ከ7 ነጥብ 7 ሚሊየን...</td>\n",
       "      <td>https://www.fanabc.com/%e1%8a%a87-%e1%8a%90%e1...</td>\n",
       "      <td>132</td>\n",
       "    </tr>\n",
       "    <tr>\n",
       "      <th>39925</th>\n",
       "      <td>አጥፍቶ ጠፊዎች ሰሜናዊ ሊብያ ውስጥ በሚገኝ የነዳጅ ማውጫ ተቋም ላይ ጥቃ...</td>\n",
       "      <td>ዓለም አቀፍ ዜና</td>\n",
       "      <td>January 05, 2016</td>\n",
       "      <td>Unknown</td>\n",
       "      <td>እሥላማዊ መንግሥት ነኝ የሚለው ቡድን አጥፍቶ ጠፊዎች ሰሜናዊ ሊብያ ውስጥ...</td>\n",
       "      <td>https://amharic.voanews.com//a/islamic-state-l...</td>\n",
       "      <td>68</td>\n",
       "    </tr>\n",
       "    <tr>\n",
       "      <th>29715</th>\n",
       "      <td>ቶኪዮ 2020| ለሉሲዎቹ ዝግጅት 23 ተጫዋቾች ተጠርተዋል</td>\n",
       "      <td>ስፖርት</td>\n",
       "      <td>August 6, 2019</td>\n",
       "      <td>Unknown</td>\n",
       "      <td>በ2020 የቶኪዮ ኦሊምፒክ የሴቶች እግርኳስ የአፍሪካ ዞን ማጣርያ ካሜሩን...</td>\n",
       "      <td>https://soccerethiopia.net/football/49712</td>\n",
       "      <td>144</td>\n",
       "    </tr>\n",
       "    <tr>\n",
       "      <th>11490</th>\n",
       "      <td>ከአማራ ብሄራዊ ሀገር አቀፍ ዜና መንግስት በወቅታዊ ጉዳይ ላይ የተሰጠ መግለጫ</td>\n",
       "      <td>ሀገር አቀፍ ዜና</td>\n",
       "      <td>October 3, 2019</td>\n",
       "      <td>173</td>\n",
       "      <td>“ የአማራ ብሎም የሀገራችን ህዝቦች የለውጥና የአንድነት ጉዞ በአሮጌው ዘ...</td>\n",
       "      <td>https://www.amharaweb.com/%e1%8a%a8%e1%8a%a0%e...</td>\n",
       "      <td>479</td>\n",
       "    </tr>\n",
       "    <tr>\n",
       "      <th>31400</th>\n",
       "      <td>የአሸናፊዎች አሸናፊ ዋንጫ ጨዋታ ከሊጉ መጀመር አንድ ሳምንት በፊት ይደረጋል</td>\n",
       "      <td>ስፖርት</td>\n",
       "      <td>September 18, 2018</td>\n",
       "      <td>Unknown</td>\n",
       "      <td>ማክሰኞ መስከረም 8 ቀን 2011የኢትዮጵያ አሸናፊዎች አሸናፊ ዋንጫ ከሊጉ...</td>\n",
       "      <td>https://soccerethiopia.net/football/39761</td>\n",
       "      <td>122</td>\n",
       "    </tr>\n",
       "    <tr>\n",
       "      <th>43011</th>\n",
       "      <td>ጠቅላይ ሚኒስትር ዶ/ር አብይ ነገ የሚከበረውን የኢሬቻ በዓልን ምክንያት ...</td>\n",
       "      <td>ሀገር አቀፍ ዜና</td>\n",
       "      <td>September 29, 2018</td>\n",
       "      <td>Unknown</td>\n",
       "      <td>የኢፌዴሪ ጠቅላይ ሚኒስትር ዶክተር አብይ አህመድ ነገ የሚከበረውን የኢሬቻ...</td>\n",
       "      <td>https://waltainfo.com/am/32096/</td>\n",
       "      <td>317</td>\n",
       "    </tr>\n",
       "  </tbody>\n",
       "</table>\n",
       "</div>"
      ],
      "text/plain": [
       "                                                headline    category  \\\n",
       "41504                           የኦባማና የኃይለማርያም ጋዜጣዊ መግለጫ  ዓለም አቀፍ ዜና   \n",
       "48489          በበጀት ዓመቱ 326 ፕሮጄክቶች በአርብቶ አደር አካባቢዎች ተገነቡ        ፖለቲካ   \n",
       "8540   በኢትዮጵያና በግብጽ መካከል ጦርነት መቀስቀስ ተቀባይነት የለውም ብለዋል ...        ፖለቲካ   \n",
       "43391  በኢትዮጵያ በተለያዩ ግጭቶች ለተፈናቀሉ ዜጎች የተመድ የ15 ሚሊየን ዶላር...  ሀገር አቀፍ ዜና   \n",
       "18650    ከ7 ነጥብ 7 ሚሊየን ብር በላይ የሚገመት የኮንትሮባንድ እቃና ዶላር ተያዘ  ሀገር አቀፍ ዜና   \n",
       "39925  አጥፍቶ ጠፊዎች ሰሜናዊ ሊብያ ውስጥ በሚገኝ የነዳጅ ማውጫ ተቋም ላይ ጥቃ...  ዓለም አቀፍ ዜና   \n",
       "29715               ቶኪዮ 2020| ለሉሲዎቹ ዝግጅት 23 ተጫዋቾች ተጠርተዋል        ስፖርት   \n",
       "11490  ከአማራ ብሄራዊ ሀገር አቀፍ ዜና መንግስት በወቅታዊ ጉዳይ ላይ የተሰጠ መግለጫ  ሀገር አቀፍ ዜና   \n",
       "31400   የአሸናፊዎች አሸናፊ ዋንጫ ጨዋታ ከሊጉ መጀመር አንድ ሳምንት በፊት ይደረጋል        ስፖርት   \n",
       "43011  ጠቅላይ ሚኒስትር ዶ/ር አብይ ነገ የሚከበረውን የኢሬቻ በዓልን ምክንያት ...  ሀገር አቀፍ ዜና   \n",
       "\n",
       "                      date    views  \\\n",
       "41504        July 28, 2015  Unknown   \n",
       "48489        July 30, 2013  Unknown   \n",
       "8540   2021/1/22 20:38 GMT  Unknown   \n",
       "43391        July 13, 2018  Unknown   \n",
       "18650         Dec 17, 2019       54   \n",
       "39925     January 05, 2016  Unknown   \n",
       "29715       August 6, 2019  Unknown   \n",
       "11490      October 3, 2019      173   \n",
       "31400   September 18, 2018  Unknown   \n",
       "43011   September 29, 2018  Unknown   \n",
       "\n",
       "                                                 article  \\\n",
       "41504   በኢትዮጵያ ቀጣይ ዕድገት ሊኖር የሚችለው በመረጃዎች ፍሰትና በግልፅ የሃ...   \n",
       "48489  አዲስ አበባ ፣ ሐምሌ 23 2005 (ዋኢማ) – በተጠናቀቀው የ2005 በጀ...   \n",
       "8540   የኢትዮጵያ ውጭ ጉዳይ ሚኒስትር ገዱ አንዳርጋቸው የአሜሪካ ፕሬዘዳንት ዶና...   \n",
       "43391  ባለፉት ጊዚያት በኢትየጵያ የተለያዩ አካባቢዎች በተከሰቱ ግጭቶች ለተፈናቀ...   \n",
       "18650  አዲስ አበባ ፣ ታህሳስ 1 ፣ 2012 (ኤፍ ቢ ሲ) ከ7 ነጥብ 7 ሚሊየን...   \n",
       "39925  እሥላማዊ መንግሥት ነኝ የሚለው ቡድን አጥፍቶ ጠፊዎች ሰሜናዊ ሊብያ ውስጥ...   \n",
       "29715  በ2020 የቶኪዮ ኦሊምፒክ የሴቶች እግርኳስ የአፍሪካ ዞን ማጣርያ ካሜሩን...   \n",
       "11490  “ የአማራ ብሎም የሀገራችን ህዝቦች የለውጥና የአንድነት ጉዞ በአሮጌው ዘ...   \n",
       "31400  ማክሰኞ መስከረም 8 ቀን 2011የኢትዮጵያ አሸናፊዎች አሸናፊ ዋንጫ ከሊጉ...   \n",
       "43011  የኢፌዴሪ ጠቅላይ ሚኒስትር ዶክተር አብይ አህመድ ነገ የሚከበረውን የኢሬቻ...   \n",
       "\n",
       "                                                    link  word_len  \n",
       "41504  https://amharic.voanews.com//a/president-barac...       274  \n",
       "48489                    https://waltainfo.com/am/27949/       140  \n",
       "8540   https://am.al-ain.com/article/ethiopian-fm-sum...       140  \n",
       "43391                    https://waltainfo.com/am/32021/        83  \n",
       "18650  https://www.fanabc.com/%e1%8a%a87-%e1%8a%90%e1...       132  \n",
       "39925  https://amharic.voanews.com//a/islamic-state-l...        68  \n",
       "29715          https://soccerethiopia.net/football/49712       144  \n",
       "11490  https://www.amharaweb.com/%e1%8a%a8%e1%8a%a0%e...       479  \n",
       "31400          https://soccerethiopia.net/football/39761       122  \n",
       "43011                    https://waltainfo.com/am/32096/       317  "
      ]
     },
     "execution_count": 17,
     "metadata": {},
     "output_type": "execute_result"
    }
   ],
   "source": [
    "df_am.head(10)"
   ]
  },
  {
   "cell_type": "markdown",
   "metadata": {},
   "source": [
    "Word length feature has been appended"
   ]
  },
  {
   "cell_type": "code",
   "execution_count": 18,
   "metadata": {},
   "outputs": [
    {
     "name": "stdout",
     "output_type": "stream",
     "text": [
      "<class 'pandas.core.frame.DataFrame'>\n",
      "Int64Index: 51470 entries, 41504 to 9193\n",
      "Data columns (total 7 columns):\n",
      " #   Column    Non-Null Count  Dtype \n",
      "---  ------    --------------  ----- \n",
      " 0   headline  51470 non-null  object\n",
      " 1   category  51470 non-null  object\n",
      " 2   date      51470 non-null  object\n",
      " 3   views     51470 non-null  object\n",
      " 4   article   51470 non-null  object\n",
      " 5   link      51470 non-null  object\n",
      " 6   word_len  51470 non-null  int64 \n",
      "dtypes: int64(1), object(6)\n",
      "memory usage: 3.1+ MB\n"
     ]
    }
   ],
   "source": [
    "df_am.info()"
   ]
  },
  {
   "cell_type": "markdown",
   "metadata": {},
   "source": [
    "## Character level normalization"
   ]
  },
  {
   "cell_type": "markdown",
   "metadata": {},
   "source": [
    "Amharic has characters wich have the same sound that can be interchangably used.\n",
    "\n",
    "for example letters 'ሃ','ኅ','ኃ','ሐ','ሓ','ኻ','ሀ' have the same sound so we change them to 'ሀ'"
   ]
  },
  {
   "cell_type": "code",
   "execution_count": 19,
   "metadata": {},
   "outputs": [],
   "source": [
    "import re\n",
    "#method to normalize character level mismatch such as ጸሀይ and ፀሐይ\n",
    "def normalize_char_level_mismatch(input_token):\n",
    "    rep1=re.sub('[ሃኅኃሐሓኻ]','ሀ',input_token)\n",
    "    rep2=re.sub('[ሑኁዅ]','ሁ',rep1)\n",
    "    rep3=re.sub('[ኂሒኺ]','ሂ',rep2)\n",
    "    rep4=re.sub('[ኌሔዄ]','ሄ',rep3)\n",
    "    rep5=re.sub('[ሕኅ]','ህ',rep4)\n",
    "    rep6=re.sub('[ኆሖኾ]','ሆ',rep5)\n",
    "    rep7=re.sub('[ሠ]','ሰ',rep6)\n",
    "    rep8=re.sub('[ሡ]','ሱ',rep7)\n",
    "    rep9=re.sub('[ሢ]','ሲ',rep8)\n",
    "    rep10=re.sub('[ሣ]','ሳ',rep9)\n",
    "    rep11=re.sub('[ሤ]','ሴ',rep10)\n",
    "    rep12=re.sub('[ሥ]','ስ',rep11)\n",
    "    rep13=re.sub('[ሦ]','ሶ',rep12)\n",
    "    rep14=re.sub('[ዓኣዐ]','አ',rep13)\n",
    "    rep15=re.sub('[ዑ]','ኡ',rep14)\n",
    "    rep16=re.sub('[ዒ]','ኢ',rep15)\n",
    "    rep17=re.sub('[ዔ]','ኤ',rep16)\n",
    "    rep18=re.sub('[ዕ]','እ',rep17)\n",
    "    rep19=re.sub('[ዖ]','ኦ',rep18)\n",
    "    rep20=re.sub('[ጸ]','ፀ',rep19)\n",
    "    rep21=re.sub('[ጹ]','ፁ',rep20)\n",
    "    rep22=re.sub('[ጺ]','ፂ',rep21)\n",
    "    rep23=re.sub('[ጻ]','ፃ',rep22)\n",
    "    rep24=re.sub('[ጼ]','ፄ',rep23)\n",
    "    rep25=re.sub('[ጽ]','ፅ',rep24)\n",
    "    rep26=re.sub('[ጾ]','ፆ',rep25)\n",
    "    #Normalizing words with Labialized Amharic characters such as በልቱዋል or  በልቱአል to  በልቷል  \n",
    "    rep27=re.sub('(ሉ[ዋአ])','ሏ',rep26)\n",
    "    rep28=re.sub('(ሙ[ዋአ])','ሟ',rep27)\n",
    "    rep29=re.sub('(ቱ[ዋአ])','ቷ',rep28)\n",
    "    rep30=re.sub('(ሩ[ዋአ])','ሯ',rep29)\n",
    "    rep31=re.sub('(ሱ[ዋአ])','ሷ',rep30)\n",
    "    rep32=re.sub('(ሹ[ዋአ])','ሿ',rep31)\n",
    "    rep33=re.sub('(ቁ[ዋአ])','ቋ',rep32)\n",
    "    rep34=re.sub('(ቡ[ዋአ])','ቧ',rep33)\n",
    "    rep35=re.sub('(ቹ[ዋአ])','ቿ',rep34)\n",
    "    rep36=re.sub('(ሁ[ዋአ])','ኋ',rep35)\n",
    "    rep37=re.sub('(ኑ[ዋአ])','ኗ',rep36)\n",
    "    rep38=re.sub('(ኙ[ዋአ])','ኟ',rep37)\n",
    "    rep39=re.sub('(ኩ[ዋአ])','ኳ',rep38)\n",
    "    rep40=re.sub('(ዙ[ዋአ])','ዟ',rep39)\n",
    "    rep41=re.sub('(ጉ[ዋአ])','ጓ',rep40)\n",
    "    rep42=re.sub('(ደ[ዋአ])','ዷ',rep41)\n",
    "    rep43=re.sub('(ጡ[ዋአ])','ጧ',rep42)\n",
    "    rep44=re.sub('(ጩ[ዋአ])','ጯ',rep43)\n",
    "    rep45=re.sub('(ጹ[ዋአ])','ጿ',rep44)\n",
    "    rep46=re.sub('(ፉ[ዋአ])','ፏ',rep45)\n",
    "    rep47=re.sub('[ቊ]','ቁ',rep46) #ቁ can be written as ቊ\n",
    "    rep48=re.sub('[ኵ]','ኩ',rep47) #ኩ can be also written as ኵ  \n",
    "    return rep48"
   ]
  },
  {
   "cell_type": "code",
   "execution_count": 20,
   "metadata": {},
   "outputs": [],
   "source": [
    "df_am['article'] = df_am['article'].str.replace('[^\\w\\s]','')"
   ]
  },
  {
   "cell_type": "code",
   "execution_count": 21,
   "metadata": {},
   "outputs": [],
   "source": [
    "df_am['article'] = df_am['article'].apply(lambda x: normalize_char_level_mismatch(x))"
   ]
  },
  {
   "cell_type": "markdown",
   "metadata": {},
   "source": [
    "Applied character level normalizations"
   ]
  },
  {
   "cell_type": "code",
   "execution_count": 22,
   "metadata": {},
   "outputs": [
    {
     "data": {
      "text/html": [
       "<div>\n",
       "<style scoped>\n",
       "    .dataframe tbody tr th:only-of-type {\n",
       "        vertical-align: middle;\n",
       "    }\n",
       "\n",
       "    .dataframe tbody tr th {\n",
       "        vertical-align: top;\n",
       "    }\n",
       "\n",
       "    .dataframe thead th {\n",
       "        text-align: right;\n",
       "    }\n",
       "</style>\n",
       "<table border=\"1\" class=\"dataframe\">\n",
       "  <thead>\n",
       "    <tr style=\"text-align: right;\">\n",
       "      <th></th>\n",
       "      <th>article</th>\n",
       "      <th>category</th>\n",
       "    </tr>\n",
       "  </thead>\n",
       "  <tbody>\n",
       "    <tr>\n",
       "      <th>41504</th>\n",
       "      <td>በኢትዮጵያ ቀጣይ እድገት ሊኖር የሚችለው በመረጃዎች ፍሰትና በግልፅ የሀ...</td>\n",
       "      <td>ዓለም አቀፍ ዜና</td>\n",
       "    </tr>\n",
       "    <tr>\n",
       "      <th>48489</th>\n",
       "      <td>አዲስ አበባ  ሀምሌ 23 2005 ዋኢማ  በተጠናቀቀው የ2005 በጀት አመ...</td>\n",
       "      <td>ፖለቲካ</td>\n",
       "    </tr>\n",
       "    <tr>\n",
       "      <th>8540</th>\n",
       "      <td>የኢትዮጵያ ውጭ ጉዳይ ሚኒስትር ገዱ አንዳርጋቸው የአሜሪካ ፕሬዘዳንት ዶና...</td>\n",
       "      <td>ፖለቲካ</td>\n",
       "    </tr>\n",
       "    <tr>\n",
       "      <th>43391</th>\n",
       "      <td>ባለፉት ጊዚያት በኢትየጵያ የተለያዩ አካባቢዎች በተከሰቱ ግጭቶች ለተፈናቀ...</td>\n",
       "      <td>ሀገር አቀፍ ዜና</td>\n",
       "    </tr>\n",
       "    <tr>\n",
       "      <th>18650</th>\n",
       "      <td>አዲስ አበባ  ታህሳስ 1  2012 ኤፍ ቢ ሲ ከ7 ነጥብ 7 ሚሊየን ብር ...</td>\n",
       "      <td>ሀገር አቀፍ ዜና</td>\n",
       "    </tr>\n",
       "  </tbody>\n",
       "</table>\n",
       "</div>"
      ],
      "text/plain": [
       "                                                 article    category\n",
       "41504   በኢትዮጵያ ቀጣይ እድገት ሊኖር የሚችለው በመረጃዎች ፍሰትና በግልፅ የሀ...  ዓለም አቀፍ ዜና\n",
       "48489  አዲስ አበባ  ሀምሌ 23 2005 ዋኢማ  በተጠናቀቀው የ2005 በጀት አመ...        ፖለቲካ\n",
       "8540   የኢትዮጵያ ውጭ ጉዳይ ሚኒስትር ገዱ አንዳርጋቸው የአሜሪካ ፕሬዘዳንት ዶና...        ፖለቲካ\n",
       "43391  ባለፉት ጊዚያት በኢትየጵያ የተለያዩ አካባቢዎች በተከሰቱ ግጭቶች ለተፈናቀ...  ሀገር አቀፍ ዜና\n",
       "18650  አዲስ አበባ  ታህሳስ 1  2012 ኤፍ ቢ ሲ ከ7 ነጥብ 7 ሚሊየን ብር ...  ሀገር አቀፍ ዜና"
      ]
     },
     "execution_count": 22,
     "metadata": {},
     "output_type": "execute_result"
    }
   ],
   "source": [
    "n_data = df_am[['article','category']]\n",
    "text,label = df_am['article'].values, df_am['category'].values\n",
    "n_data.head()"
   ]
  },
  {
   "cell_type": "code",
   "execution_count": 23,
   "metadata": {},
   "outputs": [],
   "source": [
    "n_data.to_csv('../data/article_and_category.csv', index=False)"
   ]
  },
  {
   "cell_type": "markdown",
   "metadata": {},
   "source": [
    "Refactored and saved the article and category features"
   ]
  },
  {
   "cell_type": "code",
   "execution_count": 24,
   "metadata": {},
   "outputs": [],
   "source": [
    "# the notebook is rendering the amharic text \n",
    "# so it should be replaced with english words \n",
    "df_am['category'] = df_am['category'].replace(['ሀገር አቀፍ ዜና', 'ስፖርት', 'ፖለቲካ', 'ዓለም አቀፍ ዜና','ቢዝነስ','መዝናኛ'], ['NationWide News', 'Sport', 'Politics', 'Worldwide News','Business','Entertainment'])"
   ]
  },
  {
   "cell_type": "markdown",
   "metadata": {},
   "source": [
    "> the dataset contains mostly about news agency and sports"
   ]
  },
  {
   "cell_type": "markdown",
   "metadata": {},
   "source": [
    "### Data sets are strings which contains long sentences \n",
    ">- Needs to change into more manageble and seuitable for analysis\n",
    ">- the string length method would be applied\n",
    ">- So the article and headline will be converted here(these variables are the most interested feature for the project)"
   ]
  },
  {
   "cell_type": "code",
   "execution_count": 25,
   "metadata": {},
   "outputs": [],
   "source": [
    "# creating new dataframe based on the existed dataframe\n",
    "df_am_clean=pd.DataFrame()\n",
    "df_am_clean['article_char_word'] = df_am['article'].str.len()\n",
    "df_am_clean['article_word_length'] = df_am['article'].str.split().str.len()\n",
    "df_am_clean['headline_char_length'] = df_am['headline'].str.len()\n",
    "df_am_clean['headline_word_length'] = df_am['headline'].str.split().str.len()\n",
    "df_am_clean['category'] = df_am['category']\n"
   ]
  },
  {
   "cell_type": "code",
   "execution_count": 26,
   "metadata": {},
   "outputs": [
    {
     "data": {
      "text/html": [
       "<div>\n",
       "<style scoped>\n",
       "    .dataframe tbody tr th:only-of-type {\n",
       "        vertical-align: middle;\n",
       "    }\n",
       "\n",
       "    .dataframe tbody tr th {\n",
       "        vertical-align: top;\n",
       "    }\n",
       "\n",
       "    .dataframe thead th {\n",
       "        text-align: right;\n",
       "    }\n",
       "</style>\n",
       "<table border=\"1\" class=\"dataframe\">\n",
       "  <thead>\n",
       "    <tr style=\"text-align: right;\">\n",
       "      <th></th>\n",
       "      <th>headline</th>\n",
       "      <th>category</th>\n",
       "      <th>date</th>\n",
       "      <th>views</th>\n",
       "      <th>article</th>\n",
       "      <th>link</th>\n",
       "      <th>word_len</th>\n",
       "    </tr>\n",
       "  </thead>\n",
       "  <tbody>\n",
       "    <tr>\n",
       "      <th>41504</th>\n",
       "      <td>የኦባማና የኃይለማርያም ጋዜጣዊ መግለጫ</td>\n",
       "      <td>Worldwide News</td>\n",
       "      <td>July 28, 2015</td>\n",
       "      <td>Unknown</td>\n",
       "      <td>በኢትዮጵያ ቀጣይ እድገት ሊኖር የሚችለው በመረጃዎች ፍሰትና በግልፅ የሀ...</td>\n",
       "      <td>https://amharic.voanews.com//a/president-barac...</td>\n",
       "      <td>274</td>\n",
       "    </tr>\n",
       "    <tr>\n",
       "      <th>48489</th>\n",
       "      <td>በበጀት ዓመቱ 326 ፕሮጄክቶች በአርብቶ አደር አካባቢዎች ተገነቡ</td>\n",
       "      <td>Politics</td>\n",
       "      <td>July 30, 2013</td>\n",
       "      <td>Unknown</td>\n",
       "      <td>አዲስ አበባ  ሀምሌ 23 2005 ዋኢማ  በተጠናቀቀው የ2005 በጀት አመ...</td>\n",
       "      <td>https://waltainfo.com/am/27949/</td>\n",
       "      <td>140</td>\n",
       "    </tr>\n",
       "  </tbody>\n",
       "</table>\n",
       "</div>"
      ],
      "text/plain": [
       "                                        headline        category  \\\n",
       "41504                   የኦባማና የኃይለማርያም ጋዜጣዊ መግለጫ  Worldwide News   \n",
       "48489  በበጀት ዓመቱ 326 ፕሮጄክቶች በአርብቶ አደር አካባቢዎች ተገነቡ        Politics   \n",
       "\n",
       "                date    views  \\\n",
       "41504  July 28, 2015  Unknown   \n",
       "48489  July 30, 2013  Unknown   \n",
       "\n",
       "                                                 article  \\\n",
       "41504   በኢትዮጵያ ቀጣይ እድገት ሊኖር የሚችለው በመረጃዎች ፍሰትና በግልፅ የሀ...   \n",
       "48489  አዲስ አበባ  ሀምሌ 23 2005 ዋኢማ  በተጠናቀቀው የ2005 በጀት አመ...   \n",
       "\n",
       "                                                    link  word_len  \n",
       "41504  https://amharic.voanews.com//a/president-barac...       274  \n",
       "48489                    https://waltainfo.com/am/27949/       140  "
      ]
     },
     "execution_count": 26,
     "metadata": {},
     "output_type": "execute_result"
    }
   ],
   "source": [
    "df_am.head(2)"
   ]
  },
  {
   "cell_type": "code",
   "execution_count": 27,
   "metadata": {},
   "outputs": [
    {
     "data": {
      "text/html": [
       "<div>\n",
       "<style scoped>\n",
       "    .dataframe tbody tr th:only-of-type {\n",
       "        vertical-align: middle;\n",
       "    }\n",
       "\n",
       "    .dataframe tbody tr th {\n",
       "        vertical-align: top;\n",
       "    }\n",
       "\n",
       "    .dataframe thead th {\n",
       "        text-align: right;\n",
       "    }\n",
       "</style>\n",
       "<table border=\"1\" class=\"dataframe\">\n",
       "  <thead>\n",
       "    <tr style=\"text-align: right;\">\n",
       "      <th></th>\n",
       "      <th>article_char_word</th>\n",
       "      <th>article_word_length</th>\n",
       "      <th>headline_char_length</th>\n",
       "      <th>headline_word_length</th>\n",
       "      <th>category</th>\n",
       "    </tr>\n",
       "  </thead>\n",
       "  <tbody>\n",
       "    <tr>\n",
       "      <th>41504</th>\n",
       "      <td>1527</td>\n",
       "      <td>274</td>\n",
       "      <td>24</td>\n",
       "      <td>4</td>\n",
       "      <td>Worldwide News</td>\n",
       "    </tr>\n",
       "    <tr>\n",
       "      <th>48489</th>\n",
       "      <td>719</td>\n",
       "      <td>138</td>\n",
       "      <td>41</td>\n",
       "      <td>8</td>\n",
       "      <td>Politics</td>\n",
       "    </tr>\n",
       "  </tbody>\n",
       "</table>\n",
       "</div>"
      ],
      "text/plain": [
       "       article_char_word  article_word_length  headline_char_length  \\\n",
       "41504               1527                  274                    24   \n",
       "48489                719                  138                    41   \n",
       "\n",
       "       headline_word_length        category  \n",
       "41504                     4  Worldwide News  \n",
       "48489                     8        Politics  "
      ]
     },
     "execution_count": 27,
     "metadata": {},
     "output_type": "execute_result"
    }
   ],
   "source": [
    "df_am_clean.head(2)"
   ]
  },
  {
   "cell_type": "markdown",
   "metadata": {},
   "source": [
    "The transformed data set for making visualizations"
   ]
  },
  {
   "cell_type": "code",
   "execution_count": 28,
   "metadata": {},
   "outputs": [
    {
     "name": "stdout",
     "output_type": "stream",
     "text": [
      "<class 'pandas.core.frame.DataFrame'>\n",
      "Int64Index: 51470 entries, 41504 to 9193\n",
      "Data columns (total 5 columns):\n",
      " #   Column                Non-Null Count  Dtype \n",
      "---  ------                --------------  ----- \n",
      " 0   article_char_word     51470 non-null  int64 \n",
      " 1   article_word_length   51470 non-null  int64 \n",
      " 2   headline_char_length  51470 non-null  int64 \n",
      " 3   headline_word_length  51470 non-null  int64 \n",
      " 4   category              51470 non-null  object\n",
      "dtypes: int64(4), object(1)\n",
      "memory usage: 2.4+ MB\n"
     ]
    }
   ],
   "source": [
    "df_am_clean.info()"
   ]
  },
  {
   "cell_type": "markdown",
   "metadata": {},
   "source": [
    "## Visualizers"
   ]
  },
  {
   "cell_type": "code",
   "execution_count": 29,
   "metadata": {},
   "outputs": [
    {
     "data": {
      "image/png": "[encoded data removed]",
      "text/plain": [
       "<Figure size 720x360 with 1 Axes>"
      ]
     },
     "metadata": {
      "needs_background": "light"
     },
     "output_type": "display_data"
    }
   ],
   "source": [
    "# distribution of \n",
    "color= base_color = sb.color_palette()[0]\n",
    "VisualiseDf.plot_hist(df_am_clean, 'article_word_length', color)"
   ]
  },
  {
   "cell_type": "code",
   "execution_count": 30,
   "metadata": {},
   "outputs": [
    {
     "data": {
      "image/png": "[encoded data removed]",
      "text/plain": [
       "<Figure size 720x360 with 1 Axes>"
      ]
     },
     "metadata": {
      "needs_background": "light"
     },
     "output_type": "display_data"
    }
   ],
   "source": [
    "color= base_color = sb.color_palette()[0]\n",
    "VisualiseDf.plot_hist(df_am_clean, 'headline_word_length', color)"
   ]
  },
  {
   "cell_type": "code",
   "execution_count": 31,
   "metadata": {},
   "outputs": [
    {
     "data": {
      "image/png": "[encoded data removed]",
      "text/plain": [
       "<Figure size 432x288 with 1 Axes>"
      ]
     },
     "metadata": {
      "needs_background": "light"
     },
     "output_type": "display_data"
    }
   ],
   "source": [
    "# The distribution of news Category in the dataset\n",
    "plt.title(\"The news Category in the dataset\", size=15, fontweight='bold')\n",
    "VisualiseDf.plot_discriptive_count(df_am_clean, df_am_clean['category'])"
   ]
  },
  {
   "cell_type": "code",
   "execution_count": 32,
   "metadata": {},
   "outputs": [
    {
     "data": {
      "image/png": "[encoded data removed]",
      "text/plain": [
       "<Figure size 720x360 with 1 Axes>"
      ]
     },
     "metadata": {
      "needs_background": "light"
     },
     "output_type": "display_data"
    }
   ],
   "source": [
    "color= base_color = sb.color_palette()[0]\n",
    "VisualiseDf.plot_hist(df_am_clean, 'headline_char_length', color)"
   ]
  },
  {
   "cell_type": "code",
   "execution_count": 33,
   "metadata": {},
   "outputs": [
    {
     "data": {
      "image/png": "[encoded data removed]",
      "text/plain": [
       "<Figure size 720x360 with 1 Axes>"
      ]
     },
     "metadata": {
      "needs_background": "light"
     },
     "output_type": "display_data"
    }
   ],
   "source": [
    "color= base_color = sb.color_palette()[0]\n",
    "VisualiseDf.plot_hist(df_am_clean, 'article_char_word', color)"
   ]
  },
  {
   "cell_type": "markdown",
   "metadata": {},
   "source": [
    "### Headline analysis on each category news"
   ]
  },
  {
   "cell_type": "code",
   "execution_count": 34,
   "metadata": {},
   "outputs": [
    {
     "data": {
      "text/plain": [
       "<AxesSubplot:xlabel='headline_word_length', ylabel='count'>"
      ]
     },
     "execution_count": 34,
     "metadata": {},
     "output_type": "execute_result"
    },
    {
     "data": {
      "image/png": "[encoded data removed]",
      "text/plain": [
       "<Figure size 720x576 with 1 Axes>"
      ]
     },
     "metadata": {
      "needs_background": "light"
     },
     "output_type": "display_data"
    }
   ],
   "source": [
    "plt.figure(figsize = [10, 8])\n",
    "plt.subplot(3, 1, 1)\n",
    "sb.countplot(data = df_am_clean, x = 'headline_word_length', hue = 'category', palette = 'Blues')"
   ]
  },
  {
   "cell_type": "code",
   "execution_count": 35,
   "metadata": {},
   "outputs": [
    {
     "data": {
      "image/png": "[encoded data removed]",
      "text/plain": [
       "<Figure size 432x288 with 1 Axes>"
      ]
     },
     "metadata": {
      "needs_background": "light"
     },
     "output_type": "display_data"
    }
   ],
   "source": [
    "# Distribution of dates in terms of broadcasted news \n",
    "plt.title(f'The 10 most news dates ', fontsize=15)\n",
    "df_am.date.value_counts(ascending = False).head(10).plot(kind ='barh');"
   ]
  },
  {
   "cell_type": "markdown",
   "metadata": {},
   "source": [
    "> ### Article analysis on each category news"
   ]
  },
  {
   "cell_type": "code",
   "execution_count": 36,
   "metadata": {},
   "outputs": [],
   "source": [
    "#ax = plt.subplot(3, 1, 2)\n",
    "#sb.countplot(data = df_am_clean, x = 'article_char_word', hue = 'category', palette = 'Blues')\n",
    "#ax.legend(ncol = 4) "
   ]
  },
  {
   "cell_type": "code",
   "execution_count": 37,
   "metadata": {},
   "outputs": [],
   "source": [
    "df_am.to_csv('../data/Amharic News Dataset.csv', index=False)"
   ]
  }
 ],
 "metadata": {
  "kernelspec": {
   "display_name": "Python 3.10.6 64-bit",
   "language": "python",
   "name": "python3"
  },
  "language_info": {
   "codemirror_mode": {
    "name": "ipython",
    "version": 3
   },
   "file_extension": ".py",
   "mimetype": "text/x-python",
   "name": "python",
   "nbconvert_exporter": "python",
   "pygments_lexer": "ipython3",
   "version": "3.10.6"
  },
  "orig_nbformat": 4,
  "vscode": {
   "interpreter": {
    "hash": "916dbcbb3f70747c44a77c7bcd40155683ae19c65e1c03b4aa3499c5328201f1"
   }
  }
 },
 "nbformat": 4,
 "nbformat_minor": 2
}
