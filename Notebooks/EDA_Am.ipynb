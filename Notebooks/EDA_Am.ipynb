{
 "cells": [
  {
   "cell_type": "code",
   "execution_count": 6,
   "metadata": {},
   "outputs": [],
   "source": [
    "# importing lib\n",
    "import pandas as pd\n",
    "import matplotlib.pyplot as plt\n",
    "from sklearn.utils import shuffle\n",
    "%matplotlib inline\n",
    "import seaborn as sb"
   ]
  },
  {
   "cell_type": "code",
   "execution_count": 2,
   "metadata": {},
   "outputs": [],
   "source": [
    "import warnings\n",
    "warnings.simplefilter(\"ignore\")"
   ]
  },
  {
   "cell_type": "code",
   "execution_count": 3,
   "metadata": {},
   "outputs": [],
   "source": [
    "# path\n",
    "import os\n",
    "import sys\n",
    "sys.path.append(os.path.abspath(os.path.join('../scripts')))"
   ]
  },
  {
   "cell_type": "code",
   "execution_count": 4,
   "metadata": {},
   "outputs": [],
   "source": [
    "\n",
    "# importing custom library \n",
    "from data_info import DataInfo\n",
    "from VisualisationPlots import VisualiseDf"
   ]
  },
  {
   "cell_type": "markdown",
   "metadata": {},
   "source": [
    "# Exploratory data analysis"
   ]
  },
  {
   "cell_type": "code",
   "execution_count": 9,
   "metadata": {},
   "outputs": [
    {
     "data": {
      "text/html": [
       "<div>\n",
       "<style scoped>\n",
       "    .dataframe tbody tr th:only-of-type {\n",
       "        vertical-align: middle;\n",
       "    }\n",
       "\n",
       "    .dataframe tbody tr th {\n",
       "        vertical-align: top;\n",
       "    }\n",
       "\n",
       "    .dataframe thead th {\n",
       "        text-align: right;\n",
       "    }\n",
       "</style>\n",
       "<table border=\"1\" class=\"dataframe\">\n",
       "  <thead>\n",
       "    <tr style=\"text-align: right;\">\n",
       "      <th></th>\n",
       "      <th>headline</th>\n",
       "      <th>category</th>\n",
       "      <th>date</th>\n",
       "      <th>views</th>\n",
       "      <th>article</th>\n",
       "      <th>link</th>\n",
       "    </tr>\n",
       "  </thead>\n",
       "  <tbody>\n",
       "    <tr>\n",
       "      <th>943</th>\n",
       "      <td>የኢትዮጵያ ፕሪሚየር ሊግ 18ኛ ሳምንት ጨዋታዎች</td>\n",
       "      <td>ስፖርት</td>\n",
       "      <td>March 29, 2019</td>\n",
       "      <td>30</td>\n",
       "      <td>የኢትዮጵያ ፕሪሚየር ሊግ የ18ኛ ሳምንት ሁሉም ጨዋታዎች በክልል ከተሞች ...</td>\n",
       "      <td>https://www.press.et/Ama/?p=7830</td>\n",
       "    </tr>\n",
       "    <tr>\n",
       "      <th>36305</th>\n",
       "      <td>የቀድሞው የአሜሪካ ድምጽ የራዲዮ ፕሮግራም አቀናባሪ - የዛሬው ድምጻዊ</td>\n",
       "      <td>ሀገር አቀፍ ዜና</td>\n",
       "      <td>January 15, 2020</td>\n",
       "      <td>Unknown</td>\n",
       "      <td>የዕድሜውን አብላጫ ጊዜ በራዲዮ ፕሮግራም አቀናባሪነት ነው የሰራው። ከሰላ...</td>\n",
       "      <td>https://amharic.voanews.com//a/a-conversation-...</td>\n",
       "    </tr>\n",
       "    <tr>\n",
       "      <th>18466</th>\n",
       "      <td>ጠ/ሚ ዐቢይ ተደራራቢ የከተማ ግብርና ማሳያ ስፍራን ጎበኙ</td>\n",
       "      <td>ሀገር አቀፍ ዜና</td>\n",
       "      <td>Dec 27, 2019</td>\n",
       "      <td>1,673</td>\n",
       "      <td>አዲስ አበባ ፣ ታህሳስ 17 ፣ 2012 (ኤፍ ቢ ሲ) ጠቅላይ ሚኒስትር ዐ...</td>\n",
       "      <td>https://www.fanabc.com/%e1%8c%a0-%e1%88%9a-%e1...</td>\n",
       "    </tr>\n",
       "    <tr>\n",
       "      <th>41026</th>\n",
       "      <td>በመኬን ጤና የጤናው ድምፅ ዘገየ</td>\n",
       "      <td>ዓለም አቀፍ ዜና</td>\n",
       "      <td>July 17, 2017</td>\n",
       "      <td>Unknown</td>\n",
       "      <td>የአሜሪካ የጤና ጉዳይ ከሰሞኑ የዋሺንግተን የፖለቲካ ግለት አካባቢዎች ጉዳ...</td>\n",
       "      <td>https://amharic.voanews.com//a/health-7-17-201...</td>\n",
       "    </tr>\n",
       "    <tr>\n",
       "      <th>23693</th>\n",
       "      <td>የኢትዮጵያ ኤሌክትሪክ አገልግሎት በክልል ደረጃ በድጋሚ ሊዋቀር ነው</td>\n",
       "      <td>ቢዝነስ</td>\n",
       "      <td>13 September 2017</td>\n",
       "      <td>Unknown</td>\n",
       "      <td>ከቀድሞው የኢትዮጵያ ኤሌክትሪክ ኃይል ኮርፖሬሽን ተከፍሎ የወጣው የኢትዮጵ...</td>\n",
       "      <td>https://www.ethiopianreporter.com/content/%E1%...</td>\n",
       "    </tr>\n",
       "    <tr>\n",
       "      <th>32840</th>\n",
       "      <td>​በቻምፒየንስ ሊግ ፍፃሜ የመጀመርያ ጨዋታ አል አህሊ እና ዋይዳድ አቻ ተ...</td>\n",
       "      <td>ስፖርት</td>\n",
       "      <td>October 29, 2017</td>\n",
       "      <td>Unknown</td>\n",
       "      <td>በቶታል ካፍ ቻምፒየንስ ሊግ ፍፃሜ የመጀመሪያ ጨዋታ አሌክሳንደሪያ ላይ የ...</td>\n",
       "      <td>https://soccerethiopia.net/football/30984</td>\n",
       "    </tr>\n",
       "    <tr>\n",
       "      <th>2892</th>\n",
       "      <td>‹‹ብልጽግና ፓርቲ የምርጫ መወዳደሪያ ሜዳው ሁሉንም እንዲያሳትፍ እየሰራ ...</td>\n",
       "      <td>ሀገር አቀፍ ዜና</td>\n",
       "      <td>February 13, 2020</td>\n",
       "      <td>74</td>\n",
       "      <td>አዲስ አበባ፡- የምርጫ ሜዳውን የሰፋ ከማድረግ አንጻር የብልጽግና ፓርቲ ...</td>\n",
       "      <td>https://www.press.et/Ama/?p=27184</td>\n",
       "    </tr>\n",
       "    <tr>\n",
       "      <th>50471</th>\n",
       "      <td>ባለፉት ሁለት ዓመታት በሴት አርብቶ አደሮች ላይ በተሰሩ ስራዎች አመርቂ ...</td>\n",
       "      <td>ሀገር አቀፍ ዜና</td>\n",
       "      <td>December 31, 2020</td>\n",
       "      <td>Unknown</td>\n",
       "      <td>ሴት አርብቶ አደሮቹ የተሻለ የኢኮኖሚ አቅም እንዲኖራቸው ለማስቻል በተወሰ...</td>\n",
       "      <td>https://waltainfo.com/am/%e1%89%a3%e1%88%88%e1...</td>\n",
       "    </tr>\n",
       "    <tr>\n",
       "      <th>49386</th>\n",
       "      <td>የሱዳን የሽግግር መንግስት በአደባባይ ከሚቃወሙ ዜጎች ጋር ተነጋገረ</td>\n",
       "      <td>ፖለቲካ</td>\n",
       "      <td>April 15, 2019</td>\n",
       "      <td>Unknown</td>\n",
       "      <td>የሱዳንን የሽግግር መንግስት ለማስተዳደር ቦታውን የተረከቡት ሌተናል ጄኔራ...</td>\n",
       "      <td>https://waltainfo.com/am/33262/</td>\n",
       "    </tr>\n",
       "    <tr>\n",
       "      <th>33456</th>\n",
       "      <td>የጨዋታ ሪፖርት | ቅዱስ ጊዮርጊስ የወልድያን በሜዳ ያለመሸነፍ ጉዞ ገትቷል</td>\n",
       "      <td>ስፖርት</td>\n",
       "      <td>April 26, 2017</td>\n",
       "      <td>Unknown</td>\n",
       "      <td>የኢትዮጵያ ፕሪምየር ሊግ 25ኛ ሳምንት ዛሬም ቀጥሎ ሲውል ወደ ወልድያ ያ...</td>\n",
       "      <td>https://soccerethiopia.net/football/27808</td>\n",
       "    </tr>\n",
       "  </tbody>\n",
       "</table>\n",
       "</div>"
      ],
      "text/plain": [
       "                                                headline    category  \\\n",
       "943                       የኢትዮጵያ ፕሪሚየር ሊግ 18ኛ ሳምንት ጨዋታዎች        ስፖርት   \n",
       "36305       የቀድሞው የአሜሪካ ድምጽ የራዲዮ ፕሮግራም አቀናባሪ - የዛሬው ድምጻዊ  ሀገር አቀፍ ዜና   \n",
       "18466               ጠ/ሚ ዐቢይ ተደራራቢ የከተማ ግብርና ማሳያ ስፍራን ጎበኙ  ሀገር አቀፍ ዜና   \n",
       "41026                               በመኬን ጤና የጤናው ድምፅ ዘገየ  ዓለም አቀፍ ዜና   \n",
       "23693         የኢትዮጵያ ኤሌክትሪክ አገልግሎት በክልል ደረጃ በድጋሚ ሊዋቀር ነው        ቢዝነስ   \n",
       "32840  ​በቻምፒየንስ ሊግ ፍፃሜ የመጀመርያ ጨዋታ አል አህሊ እና ዋይዳድ አቻ ተ...        ስፖርት   \n",
       "2892   ‹‹ብልጽግና ፓርቲ የምርጫ መወዳደሪያ ሜዳው ሁሉንም እንዲያሳትፍ እየሰራ ...  ሀገር አቀፍ ዜና   \n",
       "50471  ባለፉት ሁለት ዓመታት በሴት አርብቶ አደሮች ላይ በተሰሩ ስራዎች አመርቂ ...  ሀገር አቀፍ ዜና   \n",
       "49386         የሱዳን የሽግግር መንግስት በአደባባይ ከሚቃወሙ ዜጎች ጋር ተነጋገረ        ፖለቲካ   \n",
       "33456    የጨዋታ ሪፖርት | ቅዱስ ጊዮርጊስ የወልድያን በሜዳ ያለመሸነፍ ጉዞ ገትቷል        ስፖርት   \n",
       "\n",
       "                    date    views  \\\n",
       "943       March 29, 2019       30   \n",
       "36305   January 15, 2020  Unknown   \n",
       "18466       Dec 27, 2019    1,673   \n",
       "41026      July 17, 2017  Unknown   \n",
       "23693  13 September 2017  Unknown   \n",
       "32840   October 29, 2017  Unknown   \n",
       "2892   February 13, 2020       74   \n",
       "50471  December 31, 2020  Unknown   \n",
       "49386     April 15, 2019  Unknown   \n",
       "33456     April 26, 2017  Unknown   \n",
       "\n",
       "                                                 article  \\\n",
       "943    የኢትዮጵያ ፕሪሚየር ሊግ የ18ኛ ሳምንት ሁሉም ጨዋታዎች በክልል ከተሞች ...   \n",
       "36305  የዕድሜውን አብላጫ ጊዜ በራዲዮ ፕሮግራም አቀናባሪነት ነው የሰራው። ከሰላ...   \n",
       "18466  አዲስ አበባ ፣ ታህሳስ 17 ፣ 2012 (ኤፍ ቢ ሲ) ጠቅላይ ሚኒስትር ዐ...   \n",
       "41026  የአሜሪካ የጤና ጉዳይ ከሰሞኑ የዋሺንግተን የፖለቲካ ግለት አካባቢዎች ጉዳ...   \n",
       "23693  ከቀድሞው የኢትዮጵያ ኤሌክትሪክ ኃይል ኮርፖሬሽን ተከፍሎ የወጣው የኢትዮጵ...   \n",
       "32840  በቶታል ካፍ ቻምፒየንስ ሊግ ፍፃሜ የመጀመሪያ ጨዋታ አሌክሳንደሪያ ላይ የ...   \n",
       "2892   አዲስ አበባ፡- የምርጫ ሜዳውን የሰፋ ከማድረግ አንጻር የብልጽግና ፓርቲ ...   \n",
       "50471  ሴት አርብቶ አደሮቹ የተሻለ የኢኮኖሚ አቅም እንዲኖራቸው ለማስቻል በተወሰ...   \n",
       "49386  የሱዳንን የሽግግር መንግስት ለማስተዳደር ቦታውን የተረከቡት ሌተናል ጄኔራ...   \n",
       "33456  የኢትዮጵያ ፕሪምየር ሊግ 25ኛ ሳምንት ዛሬም ቀጥሎ ሲውል ወደ ወልድያ ያ...   \n",
       "\n",
       "                                                    link  \n",
       "943                     https://www.press.et/Ama/?p=7830  \n",
       "36305  https://amharic.voanews.com//a/a-conversation-...  \n",
       "18466  https://www.fanabc.com/%e1%8c%a0-%e1%88%9a-%e1...  \n",
       "41026  https://amharic.voanews.com//a/health-7-17-201...  \n",
       "23693  https://www.ethiopianreporter.com/content/%E1%...  \n",
       "32840          https://soccerethiopia.net/football/30984  \n",
       "2892                   https://www.press.et/Ama/?p=27184  \n",
       "50471  https://waltainfo.com/am/%e1%89%a3%e1%88%88%e1...  \n",
       "49386                    https://waltainfo.com/am/33262/  \n",
       "33456          https://soccerethiopia.net/football/27808  "
      ]
     },
     "execution_count": 9,
     "metadata": {},
     "output_type": "execute_result"
    }
   ],
   "source": [
    "# reading file\n",
    "df_am = pd.read_csv('../data/Amharic News Dataset.csv')\n",
    "\n",
    "# view shuffled info\n",
    "df_am = shuffle(df_am)\n",
    "df_am.head(10)"
   ]
  },
  {
   "cell_type": "code",
   "execution_count": 10,
   "metadata": {},
   "outputs": [],
   "source": [
    "# information\n",
    "df_info = DataInfo(df_am)"
   ]
  },
  {
   "cell_type": "code",
   "execution_count": 11,
   "metadata": {},
   "outputs": [
    {
     "name": "stdout",
     "output_type": "stream",
     "text": [
      "Dataframe contains 51483 rows and 6 columns\n"
     ]
    }
   ],
   "source": [
    "# shape of the data source\n",
    "df_info.shape_df()"
   ]
  },
  {
   "cell_type": "code",
   "execution_count": 12,
   "metadata": {},
   "outputs": [
    {
     "name": "stdout",
     "output_type": "stream",
     "text": [
      "headline    13\n",
      "category     1\n",
      "date         0\n",
      "views        0\n",
      "article      0\n",
      "link         0\n",
      "dtype: int64\n"
     ]
    }
   ],
   "source": [
    "# null\n",
    "df_info.get_count_null()"
   ]
  },
  {
   "cell_type": "markdown",
   "metadata": {},
   "source": [
    "Only 14 records are nulls, will be dealt with in a proper manner"
   ]
  },
  {
   "cell_type": "code",
   "execution_count": 13,
   "metadata": {},
   "outputs": [
    {
     "name": "stdout",
     "output_type": "stream",
     "text": [
      "Dataframe contains null values of 0.0% out of the given dataset\n"
     ]
    }
   ],
   "source": [
    "# really few null values\n",
    "df_info.null_percentage()"
   ]
  },
  {
   "cell_type": "markdown",
   "metadata": {},
   "source": [
    "Almost 0 percent nulls"
   ]
  },
  {
   "cell_type": "code",
   "execution_count": 14,
   "metadata": {},
   "outputs": [
    {
     "name": "stdout",
     "output_type": "stream",
     "text": [
      "<class 'pandas.core.frame.DataFrame'>\n",
      "Int64Index: 51483 entries, 943 to 40023\n",
      "Data columns (total 6 columns):\n",
      " #   Column    Non-Null Count  Dtype \n",
      "---  ------    --------------  ----- \n",
      " 0   headline  51470 non-null  object\n",
      " 1   category  51482 non-null  object\n",
      " 2   date      51483 non-null  object\n",
      " 3   views     51483 non-null  object\n",
      " 4   article   51483 non-null  object\n",
      " 5   link      51483 non-null  object\n",
      "dtypes: object(6)\n",
      "memory usage: 2.7+ MB\n",
      "None\n"
     ]
    }
   ],
   "source": [
    "#General info\n",
    "df_info.detail_info()"
   ]
  },
  {
   "cell_type": "markdown",
   "metadata": {},
   "source": [
    "## Data cleaning\n",
    "- Null values need to be handled \n",
    "- view variable datatype need to be int"
   ]
  },
  {
   "cell_type": "code",
   "execution_count": 15,
   "metadata": {},
   "outputs": [],
   "source": [
    "# dropping the null values\n",
    "df_am.dropna(inplace = True)"
   ]
  },
  {
   "cell_type": "markdown",
   "metadata": {},
   "source": [
    "Dropped the null values, since they were very small in number"
   ]
  },
  {
   "cell_type": "code",
   "execution_count": 16,
   "metadata": {},
   "outputs": [
    {
     "data": {
      "text/plain": [
       "0"
      ]
     },
     "execution_count": 16,
     "metadata": {},
     "output_type": "execute_result"
    }
   ],
   "source": [
    "df_am.isna().any().sum()"
   ]
  },
  {
   "cell_type": "markdown",
   "metadata": {},
   "source": [
    "Finally no null values in the data frame"
   ]
  },
  {
   "cell_type": "markdown",
   "metadata": {},
   "source": [
    "## let's see some distributions  "
   ]
  },
  {
   "cell_type": "code",
   "execution_count": 17,
   "metadata": {},
   "outputs": [
    {
     "data": {
      "text/plain": [
       "Index(['headline', 'category', 'date', 'views', 'article', 'link'], dtype='object')"
      ]
     },
     "execution_count": 17,
     "metadata": {},
     "output_type": "execute_result"
    }
   ],
   "source": [
    "df_am.columns"
   ]
  },
  {
   "cell_type": "markdown",
   "metadata": {},
   "source": [
    "There are 6 features in the data frame"
   ]
  },
  {
   "cell_type": "code",
   "execution_count": 18,
   "metadata": {},
   "outputs": [
    {
     "data": {
      "text/plain": [
       "ሀገር አቀፍ ዜና    20665\n",
       "ስፖርት          10411\n",
       "ፖለቲካ           9325\n",
       "ዓለም አቀፍ ዜና     6543\n",
       "ቢዝነስ           3894\n",
       "መዝናኛ            632\n",
       "Name: category, dtype: int64"
      ]
     },
     "execution_count": 18,
     "metadata": {},
     "output_type": "execute_result"
    }
   ],
   "source": [
    "df_am['category'].value_counts()"
   ]
  },
  {
   "cell_type": "markdown",
   "metadata": {},
   "source": [
    "There are 6 different news categories"
   ]
  },
  {
   "cell_type": "code",
   "execution_count": 20,
   "metadata": {},
   "outputs": [],
   "source": [
    "## news category analysis\n",
    "# df_am['category'].value_counts().plot(kind='barh')"
   ]
  },
  {
   "cell_type": "code",
   "execution_count": 21,
   "metadata": {},
   "outputs": [],
   "source": [
    "# the notebook is rendering the amharic text \n",
    "# so it should be replaced with english words \n",
    "df_am['category'] = df_am['category'].replace(['ሀገር አቀፍ ዜና', 'ስፖርት', 'ፖለቲካ', 'ዓለም አቀፍ ዜና','ቢዝነስ','መዝናኛ'], ['NationWide News', 'Sport', 'Politics', 'Worldwide News','Business','Entertainment'])"
   ]
  },
  {
   "cell_type": "markdown",
   "metadata": {},
   "source": [
    "> the dataset contains mostly about news agency and sports"
   ]
  },
  {
   "cell_type": "markdown",
   "metadata": {},
   "source": [
    "### Data sets are strings which contains long sentences \n",
    ">- Needs to change into more manageble and seuitable for analysis\n",
    ">- the string length method would be applied\n",
    ">- So the article and headline will be converted here(these variables are the most interested feature for the project)"
   ]
  },
  {
   "cell_type": "code",
   "execution_count": 23,
   "metadata": {},
   "outputs": [],
   "source": [
    "# creating new dataframe based on the existed dataframe\n",
    "df_am_clean=pd.DataFrame()\n",
    "df_am_clean['article_char_word'] = df_am['article'].str.len()\n",
    "df_am_clean['article_word_length'] = df_am['article'].str.split().str.len()\n",
    "df_am_clean['headline_char_length'] = df_am['headline'].str.len()\n",
    "df_am_clean['headline_word_length'] = df_am['headline'].str.split().str.len()\n",
    "df_am_clean['category'] = df_am['category']\n"
   ]
  },
  {
   "cell_type": "code",
   "execution_count": 25,
   "metadata": {},
   "outputs": [
    {
     "data": {
      "text/html": [
       "<div>\n",
       "<style scoped>\n",
       "    .dataframe tbody tr th:only-of-type {\n",
       "        vertical-align: middle;\n",
       "    }\n",
       "\n",
       "    .dataframe tbody tr th {\n",
       "        vertical-align: top;\n",
       "    }\n",
       "\n",
       "    .dataframe thead th {\n",
       "        text-align: right;\n",
       "    }\n",
       "</style>\n",
       "<table border=\"1\" class=\"dataframe\">\n",
       "  <thead>\n",
       "    <tr style=\"text-align: right;\">\n",
       "      <th></th>\n",
       "      <th>headline</th>\n",
       "      <th>category</th>\n",
       "      <th>date</th>\n",
       "      <th>views</th>\n",
       "      <th>article</th>\n",
       "      <th>link</th>\n",
       "    </tr>\n",
       "  </thead>\n",
       "  <tbody>\n",
       "    <tr>\n",
       "      <th>943</th>\n",
       "      <td>የኢትዮጵያ ፕሪሚየር ሊግ 18ኛ ሳምንት ጨዋታዎች</td>\n",
       "      <td>Sport</td>\n",
       "      <td>March 29, 2019</td>\n",
       "      <td>30</td>\n",
       "      <td>የኢትዮጵያ ፕሪሚየር ሊግ የ18ኛ ሳምንት ሁሉም ጨዋታዎች በክልል ከተሞች ...</td>\n",
       "      <td>https://www.press.et/Ama/?p=7830</td>\n",
       "    </tr>\n",
       "    <tr>\n",
       "      <th>36305</th>\n",
       "      <td>የቀድሞው የአሜሪካ ድምጽ የራዲዮ ፕሮግራም አቀናባሪ - የዛሬው ድምጻዊ</td>\n",
       "      <td>NationWide News</td>\n",
       "      <td>January 15, 2020</td>\n",
       "      <td>Unknown</td>\n",
       "      <td>የዕድሜውን አብላጫ ጊዜ በራዲዮ ፕሮግራም አቀናባሪነት ነው የሰራው። ከሰላ...</td>\n",
       "      <td>https://amharic.voanews.com//a/a-conversation-...</td>\n",
       "    </tr>\n",
       "  </tbody>\n",
       "</table>\n",
       "</div>"
      ],
      "text/plain": [
       "                                           headline         category  \\\n",
       "943                  የኢትዮጵያ ፕሪሚየር ሊግ 18ኛ ሳምንት ጨዋታዎች            Sport   \n",
       "36305  የቀድሞው የአሜሪካ ድምጽ የራዲዮ ፕሮግራም አቀናባሪ - የዛሬው ድምጻዊ  NationWide News   \n",
       "\n",
       "                   date    views  \\\n",
       "943      March 29, 2019       30   \n",
       "36305  January 15, 2020  Unknown   \n",
       "\n",
       "                                                 article  \\\n",
       "943    የኢትዮጵያ ፕሪሚየር ሊግ የ18ኛ ሳምንት ሁሉም ጨዋታዎች በክልል ከተሞች ...   \n",
       "36305  የዕድሜውን አብላጫ ጊዜ በራዲዮ ፕሮግራም አቀናባሪነት ነው የሰራው። ከሰላ...   \n",
       "\n",
       "                                                    link  \n",
       "943                     https://www.press.et/Ama/?p=7830  \n",
       "36305  https://amharic.voanews.com//a/a-conversation-...  "
      ]
     },
     "execution_count": 25,
     "metadata": {},
     "output_type": "execute_result"
    }
   ],
   "source": [
    "df_am.head(2)"
   ]
  },
  {
   "cell_type": "code",
   "execution_count": 24,
   "metadata": {},
   "outputs": [
    {
     "data": {
      "text/html": [
       "<div>\n",
       "<style scoped>\n",
       "    .dataframe tbody tr th:only-of-type {\n",
       "        vertical-align: middle;\n",
       "    }\n",
       "\n",
       "    .dataframe tbody tr th {\n",
       "        vertical-align: top;\n",
       "    }\n",
       "\n",
       "    .dataframe thead th {\n",
       "        text-align: right;\n",
       "    }\n",
       "</style>\n",
       "<table border=\"1\" class=\"dataframe\">\n",
       "  <thead>\n",
       "    <tr style=\"text-align: right;\">\n",
       "      <th></th>\n",
       "      <th>article_char_word</th>\n",
       "      <th>article_word_length</th>\n",
       "      <th>headline_char_length</th>\n",
       "      <th>headline_word_length</th>\n",
       "      <th>category</th>\n",
       "    </tr>\n",
       "  </thead>\n",
       "  <tbody>\n",
       "    <tr>\n",
       "      <th>943</th>\n",
       "      <td>869</td>\n",
       "      <td>182</td>\n",
       "      <td>30</td>\n",
       "      <td>6</td>\n",
       "      <td>Sport</td>\n",
       "    </tr>\n",
       "    <tr>\n",
       "      <th>36305</th>\n",
       "      <td>181</td>\n",
       "      <td>37</td>\n",
       "      <td>44</td>\n",
       "      <td>9</td>\n",
       "      <td>NationWide News</td>\n",
       "    </tr>\n",
       "  </tbody>\n",
       "</table>\n",
       "</div>"
      ],
      "text/plain": [
       "       article_char_word  article_word_length  headline_char_length  \\\n",
       "943                  869                  182                    30   \n",
       "36305                181                   37                    44   \n",
       "\n",
       "       headline_word_length         category  \n",
       "943                       6            Sport  \n",
       "36305                     9  NationWide News  "
      ]
     },
     "execution_count": 24,
     "metadata": {},
     "output_type": "execute_result"
    }
   ],
   "source": [
    "df_am_clean.head(2)"
   ]
  },
  {
   "cell_type": "markdown",
   "metadata": {},
   "source": [
    "The transformed data set for making visualizations"
   ]
  },
  {
   "cell_type": "code",
   "execution_count": 26,
   "metadata": {},
   "outputs": [
    {
     "name": "stdout",
     "output_type": "stream",
     "text": [
      "<class 'pandas.core.frame.DataFrame'>\n",
      "Int64Index: 51470 entries, 943 to 40023\n",
      "Data columns (total 5 columns):\n",
      " #   Column                Non-Null Count  Dtype \n",
      "---  ------                --------------  ----- \n",
      " 0   article_char_word     51470 non-null  int64 \n",
      " 1   article_word_length   51470 non-null  int64 \n",
      " 2   headline_char_length  51470 non-null  int64 \n",
      " 3   headline_word_length  51470 non-null  int64 \n",
      " 4   category              51470 non-null  object\n",
      "dtypes: int64(4), object(1)\n",
      "memory usage: 2.4+ MB\n"
     ]
    }
   ],
   "source": [
    "df_am_clean.info()"
   ]
  },
  {
   "cell_type": "markdown",
   "metadata": {},
   "source": [
    "## Visualizers"
   ]
  },
  {
   "cell_type": "code",
   "execution_count": 27,
   "metadata": {},
   "outputs": [
    {
     "data": {
      "image/png": "[encoded data removed]",
      "text/plain": [
       "<Figure size 720x360 with 1 Axes>"
      ]
     },
     "metadata": {
      "needs_background": "light"
     },
     "output_type": "display_data"
    }
   ],
   "source": [
    "# distribution of \n",
    "color= base_color = sb.color_palette()[0]\n",
    "VisualiseDf.plot_hist(df_am_clean, 'article_word_length', color)"
   ]
  },
  {
   "cell_type": "code",
   "execution_count": 28,
   "metadata": {},
   "outputs": [
    {
     "data": {
      "image/png": "[encoded data removed]",
      "text/plain": [
       "<Figure size 720x360 with 1 Axes>"
      ]
     },
     "metadata": {
      "needs_background": "light"
     },
     "output_type": "display_data"
    }
   ],
   "source": [
    "color= base_color = sb.color_palette()[0]\n",
    "VisualiseDf.plot_hist(df_am_clean, 'headline_word_length', color)"
   ]
  },
  {
   "cell_type": "code",
   "execution_count": 29,
   "metadata": {},
   "outputs": [
    {
     "data": {
      "image/png": "[encoded data removed]",
      "text/plain": [
       "<Figure size 432x288 with 1 Axes>"
      ]
     },
     "metadata": {
      "needs_background": "light"
     },
     "output_type": "display_data"
    }
   ],
   "source": [
    "# The distribution of news Category in the dataset\n",
    "plt.title(\"The news Category in the dataset\", size=15, fontweight='bold')\n",
    "VisualiseDf.plot_discriptive_count(df_am_clean, df_am_clean['category'])"
   ]
  },
  {
   "cell_type": "code",
   "execution_count": 30,
   "metadata": {},
   "outputs": [
    {
     "data": {
      "image/png": "[encoded data removed]",
      "text/plain": [
       "<Figure size 720x360 with 1 Axes>"
      ]
     },
     "metadata": {
      "needs_background": "light"
     },
     "output_type": "display_data"
    }
   ],
   "source": [
    "color= base_color = sb.color_palette()[0]\n",
    "VisualiseDf.plot_hist(df_am_clean, 'headline_char_length', color)"
   ]
  },
  {
   "cell_type": "code",
   "execution_count": 31,
   "metadata": {},
   "outputs": [
    {
     "data": {
      "image/png": "[encoded data removed]",
      "text/plain": [
       "<Figure size 720x360 with 1 Axes>"
      ]
     },
     "metadata": {
      "needs_background": "light"
     },
     "output_type": "display_data"
    }
   ],
   "source": [
    "color= base_color = sb.color_palette()[0]\n",
    "VisualiseDf.plot_hist(df_am_clean, 'article_char_word', color)"
   ]
  },
  {
   "cell_type": "markdown",
   "metadata": {},
   "source": [
    "### Headline analysis on each category news"
   ]
  },
  {
   "cell_type": "code",
   "execution_count": 32,
   "metadata": {},
   "outputs": [
    {
     "data": {
      "text/plain": [
       "<AxesSubplot:xlabel='headline_word_length', ylabel='count'>"
      ]
     },
     "execution_count": 32,
     "metadata": {},
     "output_type": "execute_result"
    },
    {
     "data": {
      "image/png": "[encoded data removed]",
      "text/plain": [
       "<Figure size 720x576 with 1 Axes>"
      ]
     },
     "metadata": {
      "needs_background": "light"
     },
     "output_type": "display_data"
    }
   ],
   "source": [
    "plt.figure(figsize = [10, 8])\n",
    "plt.subplot(3, 1, 1)\n",
    "sb.countplot(data = df_am_clean, x = 'headline_word_length', hue = 'category', palette = 'Blues')"
   ]
  },
  {
   "cell_type": "code",
   "execution_count": 34,
   "metadata": {},
   "outputs": [
    {
     "data": {
      "image/png": "[encoded data removed]",
      "text/plain": [
       "<Figure size 432x288 with 1 Axes>"
      ]
     },
     "metadata": {
      "needs_background": "light"
     },
     "output_type": "display_data"
    }
   ],
   "source": [
    "# Distribution of dates in terms of broadcasted news \n",
    "plt.title(f'The 10 most news dates ', fontsize=15)\n",
    "df_am.date.value_counts(ascending = False).head(10).plot(kind ='barh');"
   ]
  },
  {
   "cell_type": "markdown",
   "metadata": {},
   "source": [
    "> ### Article analysis on each category news"
   ]
  },
  {
   "cell_type": "code",
   "execution_count": 35,
   "metadata": {},
   "outputs": [
    {
     "data": {
      "text/plain": [
       "<matplotlib.legend.Legend at 0x7f999a0ec100>"
      ]
     },
     "execution_count": 35,
     "metadata": {},
     "output_type": "execute_result"
    },
    {
     "data": {
      "image/png": "[encoded data removed]",
      "text/plain": [
       "<Figure size 432x288 with 1 Axes>"
      ]
     },
     "metadata": {
      "needs_background": "light"
     },
     "output_type": "display_data"
    }
   ],
   "source": [
    "ax = plt.subplot(3, 1, 2)\n",
    "sb.countplot(data = df_am_clean, x = 'article_char_word', hue = 'category', palette = 'Blues')\n",
    "ax.legend(ncol = 4) "
   ]
  }
 ],
 "metadata": {
  "kernelspec": {
   "display_name": "Python 3.10.6 64-bit",
   "language": "python",
   "name": "python3"
  },
  "language_info": {
   "codemirror_mode": {
    "name": "ipython",
    "version": 3
   },
   "file_extension": ".py",
   "mimetype": "text/x-python",
   "name": "python",
   "nbconvert_exporter": "python",
   "pygments_lexer": "ipython3",
   "version": "3.10.6"
  },
  "orig_nbformat": 4,
  "vscode": {
   "interpreter": {
    "hash": "916dbcbb3f70747c44a77c7bcd40155683ae19c65e1c03b4aa3499c5328201f1"
   }
  }
 },
 "nbformat": 4,
 "nbformat_minor": 2
}
